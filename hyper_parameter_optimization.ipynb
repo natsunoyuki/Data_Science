{
 "cells": [
  {
   "cell_type": "code",
   "execution_count": 1,
   "metadata": {},
   "outputs": [],
   "source": [
    "import numpy as np\n",
    "import matplotlib.pyplot as plt\n",
    "\n",
    "from sklearn.svm import SVC\n",
    "from sklearn.datasets import load_breast_cancer\n",
    "from sklearn.preprocessing import MinMaxScaler\n",
    "from sklearn.model_selection import train_test_split\n",
    "from sklearn.metrics import roc_auc_score\n",
    "\n",
    "from bayes_opt import BayesianOptimization, UtilityFunction"
   ]
  },
  {
   "cell_type": "code",
   "execution_count": 2,
   "metadata": {},
   "outputs": [
    {
     "name": "stdout",
     "output_type": "stream",
     "text": [
      "(569, 30) (569,)\n",
      "(426, 30) (143, 30) (426,) (143,)\n"
     ]
    }
   ],
   "source": [
    "# Prepare data set for demonstration\n",
    "cancer = load_breast_cancer()\n",
    "X = cancer[\"data\"]\n",
    "y = cancer[\"target\"]\n",
    "\n",
    "print(X.shape, y.shape)\n",
    "\n",
    "X_train, X_test, y_train, y_test = train_test_split(X, y, \n",
    "                                                    stratify = y, \n",
    "                                                    random_state = 0)\n",
    "\n",
    "print(X_train.shape, X_test.shape, y_train.shape, y_test.shape)\n",
    "\n",
    "scaler = MinMaxScaler()\n",
    "X_train_scaled = scaler.fit_transform(X_train)\n",
    "X_test_scaled = scaler.transform(X_test)"
   ]
  },
  {
   "cell_type": "code",
   "execution_count": 3,
   "metadata": {},
   "outputs": [
    {
     "name": "stdout",
     "output_type": "stream",
     "text": [
      "|   iter    |  target   |     C     |\n",
      "-------------------------------------\n",
      "| \u001b[0m 1       \u001b[0m | \u001b[0m 0.9606  \u001b[0m | \u001b[0m 4.997   \u001b[0m |\n",
      "| \u001b[0m 2       \u001b[0m | \u001b[0m 0.9362  \u001b[0m | \u001b[0m 2.358   \u001b[0m |\n",
      "| \u001b[0m 3       \u001b[0m | \u001b[0m 0.9362  \u001b[0m | \u001b[0m 2.629   \u001b[0m |\n",
      "| \u001b[0m 4       \u001b[0m | \u001b[0m 0.955   \u001b[0m | \u001b[0m 4.024   \u001b[0m |\n",
      "| \u001b[0m 5       \u001b[0m | \u001b[0m 0.955   \u001b[0m | \u001b[0m 3.835   \u001b[0m |\n",
      "| \u001b[0m 6       \u001b[0m | \u001b[0m 0.9606  \u001b[0m | \u001b[0m 6.156   \u001b[0m |\n",
      "| \u001b[0m 7       \u001b[0m | \u001b[0m 0.9606  \u001b[0m | \u001b[0m 7.781   \u001b[0m |\n",
      "| \u001b[0m 8       \u001b[0m | \u001b[0m 0.9606  \u001b[0m | \u001b[0m 9.353   \u001b[0m |\n",
      "| \u001b[0m 9       \u001b[0m | \u001b[0m 0.9267  \u001b[0m | \u001b[0m 0.1     \u001b[0m |\n",
      "| \u001b[0m 10      \u001b[0m | \u001b[0m 0.9606  \u001b[0m | \u001b[0m 10.0    \u001b[0m |\n",
      "| \u001b[95m 11      \u001b[0m | \u001b[95m 0.9661  \u001b[0m | \u001b[95m 6.995   \u001b[0m |\n",
      "| \u001b[0m 12      \u001b[0m | \u001b[0m 0.9606  \u001b[0m | \u001b[0m 8.601   \u001b[0m |\n",
      "| \u001b[0m 13      \u001b[0m | \u001b[0m 0.9661  \u001b[0m | \u001b[0m 6.696   \u001b[0m |\n",
      "| \u001b[0m 14      \u001b[0m | \u001b[0m 0.9661  \u001b[0m | \u001b[0m 6.846   \u001b[0m |\n",
      "| \u001b[0m 15      \u001b[0m | \u001b[0m 0.9661  \u001b[0m | \u001b[0m 7.286   \u001b[0m |\n",
      "=====================================\n"
     ]
    }
   ],
   "source": [
    "def black_box_function(C):\n",
    "    # function to maximize using Bayesian optimization\n",
    "    model = SVC(C = C)\n",
    "    model.fit(X_train_scaled, y_train)\n",
    "    f = roc_auc_score(y_test, model.predict(X_test_scaled))\n",
    "    return f\n",
    "\n",
    "# set range of C to optimize over\n",
    "pbounds = {\"C\": [0.1, 10]}\n",
    "\n",
    "# create BayesianOptimization object, and optimize\n",
    "optimizer = BayesianOptimization(f = black_box_function, \n",
    "                                 pbounds = pbounds, \n",
    "                                 verbose = 2, \n",
    "                                 random_state = 50)\n",
    "\n",
    "optimizer.maximize(init_points = 5, n_iter = 10)"
   ]
  },
  {
   "cell_type": "code",
   "execution_count": null,
   "metadata": {},
   "outputs": [],
   "source": []
  }
 ],
 "metadata": {
  "kernelspec": {
   "display_name": "Python 3",
   "language": "python",
   "name": "python3"
  },
  "language_info": {
   "codemirror_mode": {
    "name": "ipython",
    "version": 3
   },
   "file_extension": ".py",
   "mimetype": "text/x-python",
   "name": "python",
   "nbconvert_exporter": "python",
   "pygments_lexer": "ipython3",
   "version": "3.7.9"
  }
 },
 "nbformat": 4,
 "nbformat_minor": 4
}

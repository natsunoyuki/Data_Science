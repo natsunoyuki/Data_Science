{
 "cells": [
  {
   "cell_type": "code",
   "execution_count": 1,
   "metadata": {},
   "outputs": [],
   "source": [
    "import numpy as np\n",
    "import matplotlib.pyplot as plt\n",
    "\n",
    "from sklearn.linear_model import LogisticRegression\n",
    "from sklearn.datasets import load_breast_cancer\n",
    "from sklearn.preprocessing import MinMaxScaler\n",
    "from sklearn.model_selection import train_test_split\n",
    "from sklearn.metrics import roc_auc_score\n",
    "\n",
    "from bayes_opt import BayesianOptimization, UtilityFunction"
   ]
  },
  {
   "cell_type": "code",
   "execution_count": 2,
   "metadata": {},
   "outputs": [
    {
     "name": "stdout",
     "output_type": "stream",
     "text": [
      "(569, 30) (569,)\n",
      "(426, 30) (143, 30) (426,) (143,)\n"
     ]
    }
   ],
   "source": [
    "# Prepare data set for demonstration\n",
    "cancer = load_breast_cancer()\n",
    "X = cancer[\"data\"]\n",
    "y = cancer[\"target\"]\n",
    "\n",
    "print(X.shape, y.shape)\n",
    "\n",
    "X_train, X_test, y_train, y_test = train_test_split(X, y, \n",
    "                                                    stratify = y, \n",
    "                                                    random_state = 0)\n",
    "\n",
    "print(X_train.shape, X_test.shape, y_train.shape, y_test.shape)\n",
    "\n",
    "scaler = MinMaxScaler()\n",
    "X_train_scaled = scaler.fit_transform(X_train)\n",
    "X_test_scaled = scaler.transform(X_test)"
   ]
  },
  {
   "cell_type": "code",
   "execution_count": 3,
   "metadata": {},
   "outputs": [
    {
     "name": "stdout",
     "output_type": "stream",
     "text": [
      "|   iter    |  target   |     C     |\n",
      "-------------------------------------\n",
      "| \u001b[0m 1       \u001b[0m | \u001b[0m 0.9899  \u001b[0m | \u001b[0m 4.997   \u001b[0m |\n",
      "| \u001b[0m 2       \u001b[0m | \u001b[0m 0.9868  \u001b[0m | \u001b[0m 2.358   \u001b[0m |\n",
      "| \u001b[0m 3       \u001b[0m | \u001b[0m 0.9874  \u001b[0m | \u001b[0m 2.629   \u001b[0m |\n",
      "| \u001b[0m 4       \u001b[0m | \u001b[0m 0.9889  \u001b[0m | \u001b[0m 4.024   \u001b[0m |\n",
      "| \u001b[0m 5       \u001b[0m | \u001b[0m 0.9887  \u001b[0m | \u001b[0m 3.835   \u001b[0m |\n",
      "| \u001b[95m 6       \u001b[0m | \u001b[95m 0.9901  \u001b[0m | \u001b[95m 6.175   \u001b[0m |\n",
      "| \u001b[95m 7       \u001b[0m | \u001b[95m 0.9906  \u001b[0m | \u001b[95m 7.919   \u001b[0m |\n",
      "| \u001b[95m 8       \u001b[0m | \u001b[95m 0.991   \u001b[0m | \u001b[95m 9.646   \u001b[0m |\n",
      "| \u001b[0m 9       \u001b[0m | \u001b[0m 0.9908  \u001b[0m | \u001b[0m 8.877   \u001b[0m |\n",
      "| \u001b[0m 10      \u001b[0m | \u001b[0m 0.991   \u001b[0m | \u001b[0m 10.0    \u001b[0m |\n",
      "| \u001b[0m 11      \u001b[0m | \u001b[0m 0.9904  \u001b[0m | \u001b[0m 7.141   \u001b[0m |\n",
      "| \u001b[0m 12      \u001b[0m | \u001b[0m 0.991   \u001b[0m | \u001b[0m 9.356   \u001b[0m |\n",
      "| \u001b[0m 13      \u001b[0m | \u001b[0m 0.991   \u001b[0m | \u001b[0m 9.853   \u001b[0m |\n",
      "| \u001b[0m 14      \u001b[0m | \u001b[0m 0.991   \u001b[0m | \u001b[0m 9.481   \u001b[0m |\n",
      "| \u001b[0m 15      \u001b[0m | \u001b[0m 0.991   \u001b[0m | \u001b[0m 9.75    \u001b[0m |\n",
      "=====================================\n"
     ]
    }
   ],
   "source": [
    "def black_box_function(C):\n",
    "    # function to maximize using Bayesian optimization\n",
    "    model = LogisticRegression(C = C)\n",
    "    model.fit(X_train_scaled, y_train)\n",
    "    y_score = model.predict_proba(X_test_scaled)[:, 1]\n",
    "    f = roc_auc_score(y_test, y_score)\n",
    "    return f\n",
    "\n",
    "# set range of C to optimize over\n",
    "pbounds = {\"C\": [0.1, 10]}\n",
    "\n",
    "# create BayesianOptimization object, and optimize\n",
    "optimizer = BayesianOptimization(f = black_box_function, \n",
    "                                 pbounds = pbounds, \n",
    "                                 verbose = 2, \n",
    "                                 random_state = 50)\n",
    "\n",
    "optimizer.maximize(init_points = 5, n_iter = 10)"
   ]
  },
  {
   "cell_type": "code",
   "execution_count": null,
   "metadata": {},
   "outputs": [],
   "source": []
  }
 ],
 "metadata": {
  "kernelspec": {
   "display_name": "Python 3",
   "language": "python",
   "name": "python3"
  },
  "language_info": {
   "codemirror_mode": {
    "name": "ipython",
    "version": 3
   },
   "file_extension": ".py",
   "mimetype": "text/x-python",
   "name": "python",
   "nbconvert_exporter": "python",
   "pygments_lexer": "ipython3",
   "version": "3.7.9"
  }
 },
 "nbformat": 4,
 "nbformat_minor": 4
}
